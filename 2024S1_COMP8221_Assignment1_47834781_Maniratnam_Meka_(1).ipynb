{
  "cells": [
    {
      "cell_type": "markdown",
      "metadata": {
        "id": "view-in-github",
        "colab_type": "text"
      },
      "source": [
        "<a href=\"https://colab.research.google.com/github/Mani7795/BigData/blob/main/2024S1_COMP8221_Assignment1_47834781_Maniratnam_Meka_(1).ipynb\" target=\"_parent\"><img src=\"https://colab.research.google.com/assets/colab-badge.svg\" alt=\"Open In Colab\"/></a>"
      ]
    },
    {
      "cell_type": "markdown",
      "id": "4be5907a",
      "metadata": {
        "id": "4be5907a"
      },
      "source": [
        "# Flow based Models\n",
        "\n",
        "\n",
        "    Maniratnam Meka\n",
        "    47834781"
      ]
    },
    {
      "cell_type": "markdown",
      "id": "dbd24aa3",
      "metadata": {
        "id": "dbd24aa3"
      },
      "source": [
        "# Implementing NICE Flow Based Model"
      ]
    },
    {
      "cell_type": "markdown",
      "source": [
        "Before Executing a directory needs to be created in the current directory named (\"**saved_models**\")"
      ],
      "metadata": {
        "id": "IbrToKuC2zqo"
      },
      "id": "IbrToKuC2zqo"
    },
    {
      "cell_type": "markdown",
      "id": "3cf069bf",
      "metadata": {
        "id": "3cf069bf"
      },
      "source": [
        "## Implementation\n",
        "\n",
        "Here Non-linear independent component estimation flow based model is being implemented. The main idea and architecture is taken from the paper, NICE: Non-linear Independent Components Estimation(https://arxiv.org/abs/1410.8516)"
      ]
    },
    {
      "cell_type": "code",
      "execution_count": 1,
      "id": "c84dd055",
      "metadata": {
        "id": "c84dd055"
      },
      "outputs": [],
      "source": [
        "import os\n",
        "import torch\n",
        "import torch.nn as nn\n",
        "import torch.nn.functional as F\n",
        "from torch.distributions import Distribution, Uniform\n",
        "import torch.optim as optim\n",
        "from torchvision import transforms, datasets\n",
        "import numpy as np"
      ]
    },
    {
      "cell_type": "markdown",
      "id": "a1bc7ee4",
      "metadata": {
        "id": "a1bc7ee4"
      },
      "source": [
        "## Design\n",
        "\n",
        "### Variable change for density estimation\n",
        "![Screenshot 2024-05-06 225748.png](data:image/png;base64,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)\n",
        "Here is the formula for the variable change for density estimation. From the below code you can see that classes ScalingLayer, CouplingLayer consists the variable change function. Both the classes have forward function which are interelated. The forward function in coupling layer, the transformation is applied only to one variable and other variable is left unchanged. On the other hand the in scaling layer the the log_scale_vector is exponentiated as it should be positive. This vector is multipled with the input and jacobian log det is added to log det. The log determinent of jacobian is calculated as data passed through each layer.\n",
        "Logistic Distibution gives the log pdf of the sample"
      ]
    },
    {
      "cell_type": "code",
      "execution_count": 2,
      "id": "fe437ab6",
      "metadata": {
        "id": "fe437ab6"
      },
      "outputs": [],
      "source": [
        "gpu = {\n",
        "  'MODEL_SAVE_PATH': './saved_models/',\n",
        "  'USE_CUDA': True,\n",
        "}\n",
        "class CouplingLayer(nn.Module):\n",
        "  def __init__(self, data_dim, hidden_dim, mask, num_layers=4):\n",
        "    super().__init__()\n",
        "    assert data_dim % 2 == 0\n",
        "    self.mask = mask\n",
        "    modules = [nn.Linear(data_dim, hidden_dim), nn.LeakyReLU(0.25)]\n",
        "    for i in range(num_layers - 2):\n",
        "      modules.append(nn.Linear(hidden_dim, hidden_dim))\n",
        "      modules.append(nn.LeakyReLU(0.25))\n",
        "    modules.append(nn.Linear(hidden_dim, data_dim))\n",
        "\n",
        "    self.m = nn.Sequential(*modules)\n",
        "\n",
        "  def forward(self, x, logdet, invert=False):\n",
        "        x1, x2 = self.mask * x, (1. - self.mask) * x\n",
        "        m_x1 = self.m(x1) * (1. - self.mask)\n",
        "        if invert:\n",
        "            return x1 + (x2 - m_x1), logdet\n",
        "        return x1 + m_x1, logdet\n",
        "\n",
        "\n",
        "class ScalingLayer(nn.Module):\n",
        "  def __init__(self, data_dim):\n",
        "    super().__init__()\n",
        "    self.log_scale_vector = nn.Parameter(torch.randn(1, data_dim, requires_grad=True))\n",
        "\n",
        "  def forward(self, x, logdet, invert=False):\n",
        "        log_det_jacobian = torch.sum(self.log_scale_vector)\n",
        "        scale = torch.exp(self.log_scale_vector if not invert else -self.log_scale_vector)\n",
        "        return x * scale, logdet + (log_det_jacobian if not invert else -log_det_jacobian)\n",
        "\n",
        "class LogisticDistribution(Distribution):\n",
        "\n",
        "  def log_prob(self, x):\n",
        "    return -(F.softplus(x) + F.softplus(-x))\n",
        "\n",
        "  def sample(self, size):\n",
        "    if gpu['USE_CUDA']:\n",
        "      z = Uniform(torch.cuda.FloatTensor([0.]), torch.cuda.FloatTensor([1.])).sample(size)\n",
        "    else:\n",
        "      z = Uniform(torch.FloatTensor([0.]), torch.FloatTensor([1.])).sample(size)\n",
        "    return torch.log(z) - torch.log(1. - z)"
      ]
    },
    {
      "cell_type": "markdown",
      "id": "0ce2114c",
      "metadata": {
        "id": "0ce2114c"
      },
      "source": [
        "### Model Implementation using Pytorch\n",
        "\n",
        "The model consists of multiple layers from coupling layer and scaling layer. The forwad function is used to find the log likelihood of the data if it is invert the it will give inverse log likelihood of the transformed data. Inverse transformation is used to regenerate the images from the trained model, the f_inverse function applies the inverse transfomration using the scaling layers and coupling layers which generate the distribution of the samples"
      ]
    },
    {
      "cell_type": "code",
      "execution_count": 3,
      "id": "eb64025d",
      "metadata": {
        "id": "eb64025d"
      },
      "outputs": [],
      "source": [
        "class NICE(nn.Module):\n",
        "  def __init__(self, data_dim, num_coupling_layers=4):\n",
        "    super().__init__()\n",
        "    self.data_dim = data_dim\n",
        "    self.coupling_layers = nn.ModuleList([CouplingLayer(data_dim=data_dim, hidden_dim= 256, mask=self._get_mask(data_dim, orientation=(i % 2 == 0)), num_layers=6)\n",
        "                              for i in range(num_coupling_layers)])\n",
        "    self.scaling_layer = ScalingLayer(data_dim=data_dim)\n",
        "    self.prior = LogisticDistribution()\n",
        "\n",
        "  def forward(self, x, invert=False):\n",
        "    if not invert:\n",
        "      z, log_det_jacobian = self.f(x)\n",
        "      log_likelihood = torch.sum(self.prior.log_prob(z), dim=1) + log_det_jacobian\n",
        "      return z, log_likelihood\n",
        "    return self.f_inverse(x)\n",
        "\n",
        "  def f(self, x):\n",
        "    z = x\n",
        "    log_det_jacobian = 0\n",
        "    for coupling_layer in self.coupling_layers:\n",
        "      z, log_det_jacobian = coupling_layer(z, log_det_jacobian)\n",
        "    z, log_det_jacobian = self.scaling_layer(z, log_det_jacobian)\n",
        "    return z, log_det_jacobian\n",
        "\n",
        "  def f_inverse(self, z):\n",
        "    x = z\n",
        "    x, _ = self.scaling_layer(x, 0, invert=True)\n",
        "    for coupling_layer in reversed(self.coupling_layers):\n",
        "      x, _ = coupling_layer(x, 0, invert=True)\n",
        "    return x\n",
        "\n",
        "  def sample(self, num_samples):\n",
        "    z = self.prior.sample([num_samples, self.data_dim])\n",
        "    return self.f_inverse(z)\n",
        "\n",
        "  def _get_mask(self, dim, orientation=True):\n",
        "    mask = np.zeros(dim)\n",
        "    mask[::2] = 1.\n",
        "    if orientation:\n",
        "      mask = 1. - mask\n",
        "    mask = torch.tensor(mask)\n",
        "    if gpu['USE_CUDA']:\n",
        "      mask = mask.cuda()\n",
        "    return mask.float()"
      ]
    },
    {
      "cell_type": "markdown",
      "id": "40a16d8b",
      "metadata": {
        "id": "40a16d8b"
      },
      "source": [
        "## Dataset and Preprocessing\n",
        "\n",
        "The model is trained to MNIST dataset as generative models take lot of computional power, the mnist dataset size is smaller and the image resolution is less as compared to CIFAR-10 or ImageNet. Imagenet is unsupervised where most of the images are not labelled. The dataset is divided into training and test dataset. The pixel values are normalized in the range of [-1,1] and randomly rotating the images by 10 degrees. But doing normalization deprecated the results.\n"
      ]
    },
    {
      "cell_type": "code",
      "execution_count": 19,
      "id": "244f8730",
      "metadata": {
        "id": "244f8730"
      },
      "outputs": [],
      "source": [
        "transform = transforms.Compose([transforms.ToTensor(),\n",
        "                                #transforms.RandomRotation(degrees=10),\n",
        "    transforms.Normalize((0.5,), (0.5,))\n",
        "    ])\n",
        "mnist_train = datasets.MNIST(root='./data/mnist', train=True, transform=transform, download=True)\n",
        "mnist_test = datasets.MNIST(root='./data/mnist', train=False, transform=transform, download=True)\n",
        "dataloader = torch.utils.data.DataLoader(dataset=mnist_train, batch_size= 128, shuffle=True, pin_memory=False)\n",
        "dataloader_test = torch.utils.data.DataLoader(dataset=mnist_test, batch_size= 128, shuffle=True, pin_memory=False)\n",
        "\n",
        "\n"
      ]
    },
    {
      "cell_type": "markdown",
      "id": "bab9aeb2",
      "metadata": {
        "id": "bab9aeb2"
      },
      "source": [
        "## Training the model\n",
        "\n",
        "The model is trained for 50 epoches,adam optimizer is used, learning rate is set to default which is 0.001. 2 parameters are passed to nice model, data_dim which is the input channels of the image(28*28) where 28 is height and width of the image. The number of coupling layers is 4. Log- likelihood is taken as the evaluation metrics while training the model. The object here is lower the negative log-likelihood. We are archineving that by maximum likelihood function.\n"
      ]
    },
    {
      "cell_type": "code",
      "execution_count": 20,
      "id": "8ce925ee",
      "metadata": {
        "id": "8ce925ee",
        "colab": {
          "base_uri": "https://localhost:8080/"
        },
        "outputId": "e41ced8e-5d4e-406a-bc9e-7445462fb5fa"
      },
      "outputs": [
        {
          "output_type": "stream",
          "name": "stdout",
          "text": [
            "Epoch 0. Log Likelihood: -946.7432250976562\n",
            "Epoch 1. Log Likelihood: -579.0274047851562\n",
            "Epoch 2. Log Likelihood: -211.32733154296875\n",
            "Epoch 3. Log Likelihood: 156.36770629882812\n",
            "Epoch 4. Log Likelihood: -104930.5859375\n",
            "Epoch 5. Log Likelihood: 409.048095703125\n",
            "Epoch 6. Log Likelihood: 435.41680908203125\n",
            "Epoch 7. Log Likelihood: 443.3690185546875\n",
            "Epoch 8. Log Likelihood: 449.2096862792969\n",
            "Epoch 9. Log Likelihood: 455.31915283203125\n",
            "Epoch 10. Log Likelihood: 462.510986328125\n",
            "Epoch 11. Log Likelihood: 471.2978210449219\n",
            "Epoch 12. Log Likelihood: 482.1659240722656\n",
            "Epoch 13. Log Likelihood: 495.6695251464844\n",
            "Epoch 14. Log Likelihood: 512.4703979492188\n",
            "Epoch 15. Log Likelihood: 533.3564453125\n",
            "Epoch 16. Log Likelihood: 559.2460327148438\n",
            "Epoch 17. Log Likelihood: 591.2018432617188\n",
            "Epoch 18. Log Likelihood: 630.4056396484375\n",
            "Epoch 19. Log Likelihood: 678.133056640625\n",
            "Epoch 20. Log Likelihood: 735.708984375\n",
            "Epoch 21. Log Likelihood: 804.470703125\n",
            "Epoch 22. Log Likelihood: 885.7396240234375\n",
            "Epoch 23. Log Likelihood: 980.773681640625\n",
            "Epoch 24. Log Likelihood: 1090.626220703125\n"
          ]
        }
      ],
      "source": [
        "model = NICE(data_dim=784, num_coupling_layers=4)\n",
        "if gpu['USE_CUDA']:\n",
        "  device = torch.device('cuda')\n",
        "  model = model.to(device)\n",
        "model.train()\n",
        "optimizer = optim.Adam(model.parameters())\n",
        "for i in range(25):\n",
        "  mean_likelihood = 0.0\n",
        "  num_minibatches = 0\n",
        "  for batch_id, (x, _) in enumerate(dataloader):\n",
        "      x = x.view(-1, 784) + torch.rand(784) / 256.\n",
        "      if gpu['USE_CUDA']:\n",
        "        x = x.cuda()\n",
        "      x = torch.clamp(x, 0, 1)\n",
        "      z, likelihood = model(x)\n",
        "      loss = -torch.mean(likelihood)\n",
        "      loss.backward()\n",
        "      optimizer.step()\n",
        "      model.zero_grad()\n",
        "\n",
        "      mean_likelihood -= loss\n",
        "      num_minibatches += 1\n",
        "\n",
        "  mean_likelihood /= num_minibatches\n",
        "  print('Epoch {}. Log Likelihood: {}'.format(i, mean_likelihood))\n",
        "\n",
        "  if i % 5 == 0:\n",
        "    save_path = os.path.join(gpu['MODEL_SAVE_PATH'], '{}.pt'.format(i))\n",
        "    torch.save(model.state_dict(), save_path)"
      ]
    },
    {
      "cell_type": "markdown",
      "id": "d8aa605a",
      "metadata": {
        "id": "d8aa605a"
      },
      "source": [
        "## Evaluation\n",
        "\n",
        "The log likelihood value when evaluated on the test dataset was near to 1000. This value gives how accurately the images are being generated, the model paper I have taken into consideration gave an likelihood value of around 1950 after 75 epoches. The images generated for that value have less noise and the quality of the images is better than compare to the results I was able to obtain."
      ]
    },
    {
      "cell_type": "code",
      "execution_count": 21,
      "id": "6790313a",
      "metadata": {
        "id": "6790313a",
        "colab": {
          "base_uri": "https://localhost:8080/"
        },
        "outputId": "71026aa8-85e5-4a3a-a857-20513beac41d"
      },
      "outputs": [
        {
          "output_type": "stream",
          "name": "stdout",
          "text": [
            "Evaluation completed. Log Likelihood on Test Dataset: 1150.594657421875\n"
          ]
        }
      ],
      "source": [
        "model.eval()\n",
        "total_likelihood = 0.0\n",
        "num_samples = 0\n",
        "for batch_id, (x_test, _) in enumerate(dataloader_test):\n",
        "    x_test = x_test.view(-1, 784) + torch.rand(784) / 256.\n",
        "    if gpu['USE_CUDA']:\n",
        "        x_test = x_test.cuda()\n",
        "    x_test = torch.clamp(x_test, 0, 1)\n",
        "    with torch.no_grad():\n",
        "        z_test, likelihood_test = model(x_test)\n",
        "    total_likelihood += torch.sum(likelihood_test).item()\n",
        "    num_samples += x_test.size(0)\n",
        "mean_likelihood_test = total_likelihood / num_samples\n",
        "print('Evaluation completed. Log Likelihood on Test Dataset: {}'.format(mean_likelihood_test))\n"
      ]
    },
    {
      "cell_type": "markdown",
      "id": "d0869ea5",
      "metadata": {
        "id": "d0869ea5"
      },
      "source": [
        "## Analysis and Visualisation\n",
        "\n",
        "The images are generated based on the evaluated model, the models are blury, for improvement we can increase the number of epoches but the computation time is more for executing the model."
      ]
    },
    {
      "cell_type": "code",
      "execution_count": 22,
      "id": "fd5608eb",
      "metadata": {
        "id": "fd5608eb",
        "colab": {
          "base_uri": "https://localhost:8080/",
          "height": 138
        },
        "outputId": "76fc9509-2b5c-4cd5-da5a-0e247dd22f76"
      },
      "outputs": [
        {
          "output_type": "display_data",
          "data": {
            "text/plain": [
              "<Figure size 1000x200 with 5 Axes>"
            ],
            "image/png": "[encoded data removed]"
          },
          "metadata": {}
        }
      ],
      "source": [
        "import matplotlib.pyplot as plt\n",
        "\n",
        "def generate_and_analyse_images(model, num_sam):\n",
        "    model.eval()\n",
        "    distribution = torch.distributions.Normal(torch.tensor(0.), torch.tensor(1.))\n",
        "    noise = distribution.sample((num_sam, model.data_dim)).squeeze()\n",
        "    noise = noise.to(next(model.parameters()).device)\n",
        "    with torch.no_grad():\n",
        "        generated = model.f_inverse(noise)\n",
        "    generated = generated.view(-1, 1, 28, 28)\n",
        "    plt.figure(figsize=(10, 2))\n",
        "    for i in range(num_sam):\n",
        "        plt.subplot(1, num_sam, i+1)\n",
        "        plt.imshow(generated[i].squeeze().cpu().numpy(), cmap='gray')\n",
        "        plt.axis('off')\n",
        "    plt.show()\n",
        "generate_and_analyse_images(model, 5)\n"
      ]
    },
    {
      "cell_type": "markdown",
      "id": "62be1fc5",
      "metadata": {
        "id": "62be1fc5"
      },
      "source": [
        "### Visualising the learned representation\n",
        "\n",
        "The plot form a distinct pattern and seperatation between points, the reason can be that the model is able to properly discriminate the different labels and classes in the data. Here each clusters represent the different categories. Here we are randomly considering 500 samples, where PCA (Principal component analysis) is used to reduce the dimensionality of the samples and fit it to the model."
      ]
    },
    {
      "cell_type": "code",
      "execution_count": 23,
      "id": "3689ac5b",
      "metadata": {
        "id": "3689ac5b",
        "colab": {
          "base_uri": "https://localhost:8080/",
          "height": 472
        },
        "outputId": "a44cd028-1b50-4e5f-8d93-dc72bdd1ca3f"
      },
      "outputs": [
        {
          "output_type": "display_data",
          "data": {
            "text/plain": [
              "<Figure size 640x480 with 1 Axes>"
            ],
            "image/png": "[encoded data removed]"
          },
          "metadata": {}
        }
      ],
      "source": [
        "import matplotlib.pyplot as plt\n",
        "from sklearn.decomposition import PCA\n",
        "\n",
        "num_samples = 500\n",
        "data_samples = next(iter(dataloader))[0][:num_samples]\n",
        "if gpu['USE_CUDA']:\n",
        "    data_samples = data_samples.cuda()\n",
        "\n",
        "# Reshape the data samples to 1D vectors\n",
        "data_samples = data_samples.view(data_samples.size(0), -1)\n",
        "\n",
        "# Get the representations from the trained model\n",
        "with torch.no_grad():\n",
        "    representations, _ = model.f(data_samples)\n",
        "pca = PCA(n_components=2)\n",
        "reduced_representations = pca.fit_transform(representations.cpu().numpy())\n",
        "plt.scatter(reduced_representations[:, 0], reduced_representations[:, 1], s=10)\n",
        "plt.title('PCA Visualization of Learned Representations')\n",
        "plt.xlabel('Principal Component 1')\n",
        "plt.ylabel('Principal Component 2')\n",
        "plt.show()\n"
      ]
    },
    {
      "cell_type": "markdown",
      "id": "438980f4",
      "metadata": {
        "id": "438980f4"
      },
      "source": [
        "## Model Enhancement\n",
        "\n",
        "Tried to implement the Multi-scale architecture. The model has multiple scales where the 4 coupling layers are added to architecture and 3 scaling layers are added. During training the model has a mismatch with input values and index is out of range for the input sample. This might enhance the results but the execuation time will increase as this will have more parameters for calculation and will required more memory to store the features."
      ]
    },
    {
      "cell_type": "code",
      "execution_count": 24,
      "id": "610bacad",
      "metadata": {
        "id": "610bacad"
      },
      "outputs": [],
      "source": [
        "import torch.nn.functional as F\n",
        "\n",
        "class MultiScaleNICE(nn.Module):\n",
        "    def __init__(self, data_dim, num_coupling_layers=4, num_scales=3):\n",
        "        self.num_scales = num_scales\n",
        "        self.coupling_layers = nn.ModuleList([\n",
        "            nn.ModuleList([\n",
        "                CouplingLayer(data_dim=data_dim // (2**scale), hidden_dim=256, mask=self._get_mask(data_dim // (2**scale), orientation=(i % 2 == 0)), num_layers=6)\n",
        "                for i in range(num_coupling_layers)\n",
        "            ])\n",
        "            for scale in range(num_scales)\n",
        "        ])\n",
        "        self.scaling_layers = nn.ModuleList([\n",
        "            ScalingLayer(data_dim=data_dim // (2**scale))\n",
        "            for scale in range(num_scales)\n",
        "        ])\n",
        "        self.prior = LogisticDistribution()\n",
        "\n",
        "    def forward(self, x, invert=False):\n",
        "        if not invert:\n",
        "            z, log_likelihood = self.f(x)\n",
        "            return z, log_likelihood\n",
        "        return self.f_inverse(x)\n",
        "\n",
        "    def f(self, x):\n",
        "        z_list = []\n",
        "        log_likelihood = 0\n",
        "        for scale in range(self.num_scales):\n",
        "            z = x if scale == 0 else F.avg_pool2d(x, kernel_size=2, stride=2)  # Downsample if not at the finest scale\n",
        "            log_det_jacobian = 0\n",
        "            for coupling_layer in self.coupling_layers[scale]:\n",
        "                z, log_det_jacobian = coupling_layer(z, log_det_jacobian)\n",
        "            z, log_det_jacobian = self.scaling_layers[scale](z, log_det_jacobian)\n",
        "            z_list.append(z)\n",
        "            log_likelihood += log_det_jacobian\n",
        "        return torch.cat(z_list, dim=1), log_likelihood\n",
        "\n",
        "    def f_inverse(self, z):\n",
        "        x_list = []\n",
        "        z_splits = torch.split(z, [self.data_dim // (2**scale) for scale in range(self.num_scales)], dim=1)\n",
        "        for scale, z_scale in enumerate(z_splits):\n",
        "            x = z_scale\n",
        "            for coupling_layer in reversed(self.coupling_layers[scale]):\n",
        "                x, _ = coupling_layer(x, 0, invert=True)\n",
        "            x, _ = self.scaling_layers[scale](x, 0, invert=True)\n",
        "            x_list.append(x)\n",
        "            if scale < self.num_scales - 1:\n",
        "                x = F.interpolate(x, scale_factor=2, mode='nearest')  # Upsample if not at the finest scale\n",
        "        return torch.cat(x_list, dim=1)\n",
        "\n",
        "    def sample(self, num_samples):\n",
        "        z = self.prior.sample([num_samples, self.data_dim])\n",
        "        return self.f_inverse(z)\n",
        "\n",
        "    def _get_mask(self, dim, orientation=True):\n",
        "        mask = np.zeros(dim)\n",
        "        mask[::2] = 1.\n",
        "        if orientation:\n",
        "            mask = 1. - mask\n",
        "        mask = torch.tensor(mask)\n",
        "        if gpu['USE_CUDA']:\n",
        "            mask = mask.cuda()\n",
        "        return mask.float()\n",
        "\n",
        "\n"
      ]
    },
    {
      "cell_type": "markdown",
      "source": [
        "# Conclusion\n",
        "\n",
        "  1. Finally, the flow based models have the ability to regenerate the images from the past images using inverse transformation. The NICE model features efficient unbiased ancestral sampling and achieves competitive results in terms of log-likelihood[1].\n",
        "  2. The model is trained on MNIST dataset which consist of images of digits with low resolution. When the augumentation on digits was done like changing the angle of images by 10 degrees only deprecated the results as the images are of digits, changing the angle makes results worse.\n",
        "  3. The model is trained and the metrics used to evaluate the model is log-likelihood function, where the current model achieved around 1000 after 25 epoches. There is a room for improvement.\n",
        "  4. The images generated by the model has noise in it, the better value of likelihood can produce the images with less noise and more readable. whereas for the dimensionality reduction we can see the patterns in the data which means that the data is able to differentiate the categories."
      ],
      "metadata": {
        "id": "xQd4WGif6jUs"
      },
      "id": "xQd4WGif6jUs"
    },
    {
      "cell_type": "markdown",
      "id": "8d687db0",
      "metadata": {
        "id": "8d687db0"
      },
      "source": [
        "# Reference\n",
        "\n",
        "1. Dinh, L., Krueger, D., & Bengio, Y. (2014). NICE: Non-linear Independent Components Estimation. ArXiv. /abs/1410.8516\n",
        "2. Qian, X., Fu, Y., Jiang, Y.-G., Xiang, T., & Xue, X. (2022). Multi-scale Deep Learning Architectures for Person Re-identification. IEEE Transactions on Pattern Analysis and Machine Intelligence, 44(1), 123-135"
      ]
    },
    {
      "cell_type": "code",
      "execution_count": null,
      "id": "58a3d88b",
      "metadata": {
        "id": "58a3d88b"
      },
      "outputs": [],
      "source": []
    }
  ],
  "metadata": {
    "kernelspec": {
      "display_name": "Python 3",
      "name": "python3"
    },
    "language_info": {
      "codemirror_mode": {
        "name": "ipython",
        "version": 3
      },
      "file_extension": ".py",
      "mimetype": "text/x-python",
      "name": "python",
      "nbconvert_exporter": "python",
      "pygments_lexer": "ipython3",
      "version": "3.11.5"
    },
    "colab": {
      "provenance": [],
      "gpuType": "T4",
      "include_colab_link": true
    },
    "accelerator": "GPU"
  },
  "nbformat": 4,
  "nbformat_minor": 5
}